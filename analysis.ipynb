{
 "cells": [
  {
   "cell_type": "markdown",
   "metadata": {},
   "source": [
    "# Sanity Check"
   ]
  },
  {
   "cell_type": "code",
   "execution_count": 47,
   "metadata": {},
   "outputs": [],
   "source": [
    "import csv\n",
    "import matplotlib.pyplot as plt\n",
    "import numpy as np\n",
    "\n",
    "SIMULATION_TIME_STEP = 0.05  # seconds\n",
    "filename = '/workspaces/carla/ccr_ncap/data.csv'\n",
    "\n",
    "# Read data from CSV file\n",
    "with open(filename, 'r') as csvfile:\n",
    "        reader = csv.DictReader(csvfile)\n",
    "        data = list(reader)"
   ]
  },
  {
   "cell_type": "markdown",
   "metadata": {},
   "source": [
    "Creating functions to plot the data from the `.csv` file"
   ]
  },
  {
   "cell_type": "code",
   "execution_count": 52,
   "metadata": {},
   "outputs": [],
   "source": [
    "def plot_state(data):\n",
    "    \n",
    "    # Extract velocity in Y direction\n",
    "    velocity_y = [float(row['velocity_y']) for row in data]\n",
    "    figure = plt.figure(figsize=(8, 6))\n",
    "    plt.plot([x * SIMULATION_TIME_STEP for x in range(len(velocity_y))], velocity_y)\n",
    "    plt.xlabel('Time Step')\n",
    "    plt.ylabel('Velocity (m/s)')\n",
    "    plt.title('Velocity in Y direction')\n",
    "    plt.grid()\n",
    "    plt.show()\n",
    "\n",
    "    # Extract acceleration in Y direction\n",
    "    acceleration_y = [float(row['acceleration_y']) for row in data]\n",
    "    figure = plt.figure(figsize=(8, 6))\n",
    "    plt.plot([x * SIMULATION_TIME_STEP for x in range(len(acceleration_y))], acceleration_y)\n",
    "    plt.xlabel('Time Step')\n",
    "    plt.ylabel('Acceleration (m/s^2)')\n",
    "    plt.title('Acceleration in Y direction')\n",
    "    plt.grid()\n",
    "    plt.show()\n",
    "\n",
    "    # Extract jerk in Y direction\n",
    "    jerk_y = [float(row['jerk_y']) for row in data]\n",
    "    figure = plt.figure(figsize=(8, 6))\n",
    "    plt.plot([x * SIMULATION_TIME_STEP for x in range(len(jerk_y))], jerk_y)\n",
    "    plt.xlabel('Time Step')\n",
    "    plt.ylabel('Jerk (m/s^3)')\n",
    "    plt.title('Jerk in Y direction')\n",
    "    plt.grid()\n",
    "    plt.show()\n",
    "\n",
    "    # Extract relative_distance:\n",
    "    relative_distance = [float(row['relative_distance']) for row in data]\n",
    "    figure = plt.figure(figsize=(8, 6))\n",
    "    plt.plot([x * SIMULATION_TIME_STEP for x in range(len(relative_distance))], relative_distance)\n",
    "    plt.xlabel('Time Step')\n",
    "    plt.ylabel('Relative Distance (m)')\n",
    "    plt.title('Relative Distance')\n",
    "    plt.grid()\n",
    "    plt.show()\n",
    "\n",
    "\n",
    "\n",
    "\n",
    "def animate_verdicts(data):\n",
    "    # Extract verdicts\n",
    "    bbox_verdicts = [row['bbox_verdicts'] for row in data]\n",
    "    print(bbox_verdicts[100])\n"
   ]
  },
  {
   "cell_type": "code",
   "execution_count": 59,
   "metadata": {},
   "outputs": [
    {
     "name": "stdout",
     "output_type": "stream",
     "text": [
      "{'velocity_x': '2.0495542685239343e-07', 'velocity_y': '7.058659434733272e-08', 'velocity_z': '-0.0011265564244240522', 'acceleration_x': '1.0614880920911673e-06', 'acceleration_y': '2.5753811314643826e-06', 'acceleration_z': '0.03131489455699921', 'jerk_x': '1.6488855578700168e-05', 'jerk_y': '5.31576179696458e-05', 'jerk_z': '5.84615021944046', 'relative_distance': '100.0', 'bbox_verdicts': '[[0', None: [' 0]', ' [0', ' 0]', ' [0', ' 0]', ' [0', ' 0]]']}\n"
     ]
    }
   ],
   "source": [
    "print(data[0])"
   ]
  }
 ],
 "metadata": {
  "kernelspec": {
   "display_name": "Python 3",
   "language": "python",
   "name": "python3"
  },
  "language_info": {
   "codemirror_mode": {
    "name": "ipython",
    "version": 3
   },
   "file_extension": ".py",
   "mimetype": "text/x-python",
   "name": "python",
   "nbconvert_exporter": "python",
   "pygments_lexer": "ipython3",
   "version": "3.10.12"
  }
 },
 "nbformat": 4,
 "nbformat_minor": 2
}
